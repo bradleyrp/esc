{
 "cells": [
  {
   "cell_type": "markdown",
   "metadata": {},
   "source": [
    "# Python multiprocessing and hierarchical data\n",
    "\n",
    "In this exercise we will adapt the [epidemic model from last time](http://marcc-hpc.github.io/esc/notebooks/epidemic/epidemic.html) for execution *in a single python process*. In contrast to the parallelism we discussed last time (thanks to either SLURM or GNU parallel), this method offers the opportunity to save all of the data to a single file. We will use the [h5py](https://www.h5py.org/) library to do this. The work pattern in this example is generally useful to researchers who wish to write codes which can use an entire compute node and efficiently write the results in one place."
   ]
  },
  {
   "cell_type": "markdown",
   "metadata": {},
   "source": [
    "### Requirements\n",
    "\n",
    "We are using the following requrements file for an Anaconda environment.\n",
    "\n",
    "~~~\n",
    "dependencies:\n",
    "  - python=3.7\n",
    "  - matplotlib\n",
    "  - scipy\n",
    "  - numpy\n",
    "  - nb_conda_kernels\n",
    "  - au-eoed::gnu-parallel\n",
    "  - h5py\n",
    "  - pip\n",
    "~~~\n",
    "\n",
    "Recall that you can review the [instructions for creating an environment](https://marcc-hpc.github.io/esc/common/python-environments#conda)."
   ]
  },
  {
   "cell_type": "code",
   "execution_count": 1,
   "metadata": {},
   "outputs": [],
   "source": [
    "import os,sys\n",
    "import h5py\n",
    "import json\n",
    "import time\n",
    "import functools\n",
    "import numpy as np\n",
    "import multiprocessing as mp"
   ]
  },
  {
   "cell_type": "markdown",
   "metadata": {},
   "source": [
    "## Define a simple numerical experiment\n",
    "\n",
    "The following code was rescued from [last time](http://marcc-hpc.github.io/esc/notebooks/epidemic/epidemic.html), thanks to [a course by Chris Meyers](http://pages.physics.cornell.edu/~myers/teaching/ComputationalMethods/ComputerExercises/SIR/SIR.html)."
   ]
  },
  {
   "cell_type": "code",
   "execution_count": 2,
   "metadata": {},
   "outputs": [],
   "source": [
    "class StochasticSIR:\n",
    "\n",
    "    def __init__(self,beta,gamma,S,I,R):\n",
    "        self.S = S\n",
    "        self.I = I\n",
    "        self.R = R\n",
    "        self.beta = beta\n",
    "        self.gamma = gamma\n",
    "        self.t = 0.\n",
    "        self.N = S + I + R\n",
    "        self.trajectory = np.array([[self.S, self.I, self.R]])\n",
    "        self.times = None\n",
    "\n",
    "    def step(self):\n",
    "        transition = None\n",
    "        # define rates\n",
    "        didt = self.beta * self.S * self.I\n",
    "        drdt = self.gamma * self.I\n",
    "        total_rate = didt + drdt\n",
    "        if total_rate == 0.:\n",
    "            return transition, self.t\n",
    "        # get a random number\n",
    "        rand = np.random.random()\n",
    "        # rates determine the event\n",
    "        if rand < didt/drdt:\n",
    "            self.S -= 1\n",
    "            self.I += 1\n",
    "            transition = 1\n",
    "        else:\n",
    "            self.I -= 1\n",
    "            self.R += 1\n",
    "            transition = 2\n",
    "        # the event happens in the future\n",
    "        dt = np.random.exponential(1./total_rate,1)[0]\n",
    "        self.t += dt\n",
    "        return transition, self.t\n",
    "\n",
    "    def run(self, T=None, make_traj=True):\n",
    "        \"\"\"The Gillespie algorithm.\"\"\"\n",
    "        if T is None:\n",
    "            T = sys.maxsize\n",
    "        self.times = [0.]\n",
    "        t0 = self.t\n",
    "        transition = 1\n",
    "        while self.t < t0 + T:\n",
    "            transition, t = self.step()\n",
    "            if not transition:\n",
    "                return self.t\n",
    "            if make_traj: self.trajectory = np.concatenate(\n",
    "                (self.trajectory, [[self.S,self.I,self.R]]), axis=0)\n",
    "            self.times.append(self.t)\n",
    "        return"
   ]
  },
  {
   "cell_type": "markdown",
   "metadata": {},
   "source": [
    "We slightly modify the `study_beta` function so that it also returns a list of the parameters. We will use these later to keep track of our experiments."
   ]
  },
  {
   "cell_type": "code",
   "execution_count": 3,
   "metadata": {},
   "outputs": [],
   "source": [
    "def study_beta(\n",
    "    beta = .005,gamma = 10,\n",
    "    N = 100,I = 1,n_expts = 1000):\n",
    "    \"\"\"\n",
    "    Run many experiments for a particular beta \n",
    "    to see how many infections spread.\n",
    "    \"\"\"\n",
    "    R = 0\n",
    "    S = N-I\n",
    "    result = np.zeros((n_expts,))\n",
    "    for expt_num in range(len(result)):\n",
    "        model = StochasticSIR(beta=beta,gamma=gamma,S=S,I=I,R=R)\n",
    "        model.run()\n",
    "        result[expt_num] = model.trajectory[-1][2]\n",
    "    params = dict(beta=beta,gamma=gamma,N=N,I=I,n_expts=n_expts)\n",
    "    return result,params"
   ]
  },
  {
   "cell_type": "code",
   "execution_count": 4,
   "metadata": {},
   "outputs": [],
   "source": [
    "# generate some example data\n",
    "result,params = study_beta()"
   ]
  },
  {
   "cell_type": "code",
   "execution_count": 5,
   "metadata": {},
   "outputs": [],
   "source": [
    "# we delete the example output files during testing\n",
    "# h5py will not overwrite files and must always close a file when finished\n",
    "! rm -f example.hdf5"
   ]
  },
  {
   "cell_type": "markdown",
   "metadata": {},
   "source": [
    "In the following example, we will save only the resulting data using `h5py` and then read it back in. We find that the `hdf5` objects are represented slightly differently than `numpy` objects, but we can recast them easily."
   ]
  },
  {
   "cell_type": "code",
   "execution_count": 6,
   "metadata": {},
   "outputs": [],
   "source": [
    "result,params = study_beta()\n",
    "fn = 'example.hdf5'\n",
    "if not os.path.isfile(fn):\n",
    "    fobj = h5py.File(fn,'w')\n",
    "    fobj.create_dataset('result',data=result)\n",
    "    fobj.close()\n",
    "else: raise Exception('file exists: %s'%fn)"
   ]
  },
  {
   "cell_type": "code",
   "execution_count": 7,
   "metadata": {},
   "outputs": [
    {
     "name": "stdout",
     "output_type": "stream",
     "text": [
      "<HDF5 file \"example.hdf5\" (mode r)>\n",
      "found key: result\n",
      "<HDF5 dataset \"result\": shape (1000,), type \"<f8\">\n",
      "[1. 1. 1. 1. 1. 1. 1. 1. 1. 1.]\n"
     ]
    }
   ],
   "source": [
    "# read the result\n",
    "with h5py.File(fn,'r') as fp:\n",
    "    print(fp)\n",
    "    for key in fp:\n",
    "        print('found key: %s'%key)\n",
    "        # the file object acts like a dict\n",
    "        print(fp[key])\n",
    "        # recast as an array\n",
    "        print(np.array(fp[key])[:10])"
   ]
  },
  {
   "cell_type": "markdown",
   "metadata": {},
   "source": [
    "Now that we have established that we can write different datasets to a single file, we can build our multiprocessing script."
   ]
  },
  {
   "cell_type": "markdown",
   "metadata": {},
   "source": [
    "### Aside: large parameter sweeps\n",
    "\n",
    "In this example we will only recapitulate a one-parameter sweep from last time. Many experiments require a much larger search. After we complete a minimum working example (MWE), you may wish to use the following code to expand our one-parameter sweep to two parameters. It's important to keep in mind that the utility of this would be limited for the SIR model as we have written it, since that model benefits from using the *basic reproduction number* instead."
   ]
  },
  {
   "cell_type": "code",
   "execution_count": 8,
   "metadata": {},
   "outputs": [],
   "source": [
    "import itertools\n",
    "beta_sweep = np.arange(0.001,0.02,0.001)\n",
    "gamma_sweep = 1./np.arange(1.0,10+1)\n",
    "combos = itertools.product(beta_sweep,gamma_sweep)"
   ]
  },
  {
   "cell_type": "markdown",
   "metadata": {},
   "source": [
    "## A minimal multiprocessing example"
   ]
  },
  {
   "cell_type": "markdown",
   "metadata": {},
   "source": [
    "First we define a simple parameter sweep."
   ]
  },
  {
   "cell_type": "code",
   "execution_count": 9,
   "metadata": {},
   "outputs": [
    {
     "data": {
      "text/plain": [
       "array([0.01, 0.02, 0.03, 0.04, 0.05, 0.06, 0.07, 0.08, 0.09, 0.1 , 0.11,\n",
       "       0.12, 0.13, 0.14, 0.15, 0.16, 0.17, 0.18, 0.19, 0.2 , 0.21, 0.22,\n",
       "       0.23, 0.24, 0.25, 0.26, 0.27, 0.28, 0.29, 0.3 , 0.31, 0.32, 0.33,\n",
       "       0.34, 0.35, 0.36, 0.37, 0.38, 0.39, 0.4 , 0.41, 0.42, 0.43, 0.44,\n",
       "       0.45, 0.46, 0.47, 0.48, 0.49])"
      ]
     },
     "execution_count": 9,
     "metadata": {},
     "output_type": "execute_result"
    }
   ],
   "source": [
    "n_expts = 1000\n",
    "r0_vals = np.arange(0.1,5,0.1)\n",
    "gamma = 10.0\n",
    "beta_sweep = r0_vals/gamma\n",
    "beta_sweep"
   ]
  },
  {
   "cell_type": "code",
   "execution_count": 10,
   "metadata": {},
   "outputs": [
    {
     "name": "stdout",
     "output_type": "stream",
     "text": [
      "we have 8 processors\n"
     ]
    }
   ],
   "source": [
    "# check the number of processors\n",
    "print(\"we have %d processors\"%mp.cpu_count())"
   ]
  },
  {
   "cell_type": "markdown",
   "metadata": {},
   "source": [
    "The following code includes an MWE for using a multiprocessing pool along with a hierarchical data file. It contains several notable features:\n",
    "\n",
    "- We remove the output file during testing.\n",
    "- We check to make sure the file does not exist already (`h5py` will not let you overwrite it).\n",
    "- We manipulate files inside of a `with` block to ensure they are closed correctly.\n",
    "- We tested the serial method alongside the parallel one. The asynchronous parallel operations would \"fail silently\" which made them very hard to debug!\n",
    "- We use a \"blocking\" callback to write the results.\n",
    "- The function that writes the data is \"decorated\" so that it can receive the file pointer.\n",
    "\n",
    "We will discuss this example further in class. The first order of business is to make sure it goes faster in parallel."
   ]
  },
  {
   "cell_type": "code",
   "execution_count": 11,
   "metadata": {},
   "outputs": [
    {
     "name": "stdout",
     "output_type": "stream",
     "text": [
      "..................................................................................................time: 94.9s\n"
     ]
    }
   ],
   "source": [
    "! rm -f out.hdf5\n",
    "\n",
    "if os.path.isfile('out.hdf5'):\n",
    "    raise Exception('file exists!')\n",
    "\n",
    "do_parallel = False\n",
    "\n",
    "def writer(incoming,fp=None):\n",
    "    print('.',end='')\n",
    "    result,params = incoming\n",
    "    index = len(fp.attrs)\n",
    "    dset = fp.create_dataset(str(index),data=result)\n",
    "    fp.attrs[str(index)] = np.string_(json.dumps(params))\n",
    "\n",
    "start_time = time.time()\n",
    "if do_parallel:\n",
    "    with h5py.File('out.hdf5','w') as fp:\n",
    "        def handle_output(x): return writer(x,fp=fp)\n",
    "        pool = mp.Pool(mp.cpu_count())\n",
    "        for beta in beta_sweep:\n",
    "            pool.apply_async(\n",
    "                functools.partial(study_beta,gamma=gamma),\n",
    "                (beta,),\n",
    "                callback=handle_output)\n",
    "        pool.close()\n",
    "        pool.join()\n",
    "        fp.close()\n",
    "else:\n",
    "    # develop in serial to catch silent async errors\n",
    "    with h5py.File('out.hdf5','w') as fp:\n",
    "        for index,beta in enumerate(beta_sweep):\n",
    "            print('.',end='')\n",
    "            output = study_beta(beta=beta,n_expts=n_expts,gamma=gamma)\n",
    "            writer(output,fp=fp)\n",
    "# compare the parallel time to the serial time (~35s)\n",
    "print('time: %.1fs'%(time.time()-start_time))"
   ]
  },
  {
   "cell_type": "markdown",
   "metadata": {},
   "source": [
    "Now that we have a useful parallel code, we can analyze the data."
   ]
  },
  {
   "cell_type": "code",
   "execution_count": 12,
   "metadata": {},
   "outputs": [
    {
     "name": "stdout",
     "output_type": "stream",
     "text": [
      "Experiment 0\n",
      "Metadata: {'beta': 0.01, 'gamma': 10.0, 'N': 100, 'I': 1, 'n_expts': 1000}\n",
      "Result: 1.122\n",
      "Experiment 1\n",
      "Metadata: {'beta': 0.02, 'gamma': 10.0, 'N': 100, 'I': 1, 'n_expts': 1000}\n",
      "Result: 1.31\n",
      "Experiment 2\n",
      "Metadata: {'beta': 0.11000000000000001, 'gamma': 10.0, 'N': 100, 'I': 1, 'n_expts': 1000}\n",
      "Result: 83.872\n",
      "Experiment 3\n",
      "Metadata: {'beta': 0.12000000000000002, 'gamma': 10.0, 'N': 100, 'I': 1, 'n_expts': 1000}\n",
      "Result: 87.219\n"
     ]
    }
   ],
   "source": [
    "# unpack the data\n",
    "meta,data = [],[]\n",
    "with h5py.File('out.hdf5','r') as fp:\n",
    "    for index,key in enumerate(fp):\n",
    "        meta.append(json.loads(fp.attrs[key]))\n",
    "        data.append(np.array(fp[key]))\n",
    "# look at the data\n",
    "for index,(m,d) in enumerate(zip(meta,data)):\n",
    "    print(\"Experiment %d\"%index)\n",
    "    print(\"Metadata: %s\"%str(m))\n",
    "    print(\"Result: %s\"%str(d.mean()))\n",
    "    # we got the idea so break\n",
    "    if index>2: break\n",
    "    #\n",
    "# reformulate the relevant values\n",
    "epidemic_rate = []\n",
    "afflicted = []\n",
    "for index,(m,d) in enumerate(zip(meta,data)):\n",
    "    epidemic_rate.append((m['beta']*gamma,np.mean(d>1)))\n",
    "    afflicted.append((m['beta']*gamma,np.mean(d)))\n",
    "# sort it, since it comes out all jumbled (but why?)\n",
    "epidemic_rate = sorted(epidemic_rate,key=lambda x:x[0])\n",
    "afflicted = sorted(afflicted,key=lambda x:x[0])"
   ]
  },
  {
   "cell_type": "code",
   "execution_count": 13,
   "metadata": {},
   "outputs": [],
   "source": [
    "# imports for plotting\n",
    "import matplotlib as mpl\n",
    "%matplotlib inline\n",
    "import matplotlib.pyplot as plt"
   ]
  },
  {
   "cell_type": "code",
   "execution_count": 14,
   "metadata": {},
   "outputs": [
    {
     "data": {
      "image/png": "[encoded data removed]",
      "text/plain": [
       "<Figure size 432x432 with 2 Axes>"
      ]
     },
     "metadata": {
      "needs_background": "light"
     },
     "output_type": "display_data"
    }
   ],
   "source": [
    "fig = plt.figure(figsize=(6,6))\n",
    "ax = fig.add_subplot(211)\n",
    "ax.plot(*zip(*epidemic_rate))\n",
    "ax.set_ylabel('probability of an epidemic')\n",
    "ax = fig.add_subplot(212)\n",
    "ax.plot(*zip(*afflicted))\n",
    "ax.set_ylabel('afflicted population')\n",
    "ax.set_xlabel('basic reproduction rate')\n",
    "plt.show()"
   ]
  },
  {
   "cell_type": "markdown",
   "metadata": {},
   "source": [
    "This concludes the exercise. Interested readers are welcome to expand the example above so that it performs a sweep over more than one parameter."
   ]
  }
 ],
 "metadata": {
  "kernelspec": {
   "display_name": "Python 3",
   "language": "python",
   "name": "python3"
  },
  "language_info": {
   "codemirror_mode": {
    "name": "ipython",
    "version": 3
   },
   "file_extension": ".py",
   "mimetype": "text/x-python",
   "name": "python",
   "nbconvert_exporter": "python",
   "pygments_lexer": "ipython3",
   "version": "3.7.4"
  }
 },
 "nbformat": 4,
 "nbformat_minor": 2
}
