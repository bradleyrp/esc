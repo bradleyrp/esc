{
 "cells": [
  {
   "cell_type": "markdown",
   "metadata": {},
   "source": [
    "# A minimal compartmental model for an epidemic\n",
    "\n",
    "In this exercise we will build a small mathematical model for the spread of an epidemic and use it to demonstrate a number of techniques, including basic parallelization."
   ]
  },
  {
   "cell_type": "markdown",
   "metadata": {},
   "source": [
    "### Requirements\n",
    "\n",
    "The following exercise requires a number of skills which are essential for efficiently performing basic data analysis. I recommend that users install an Anaconda environment with the following dependencies:\n",
    "\n",
    "```\n",
    "dependencies:\n",
    "  - python=3.7\n",
    "  - matplotlib\n",
    "  - scipy\n",
    "  - numpy\n",
    "  - nb_conda_kernels\n",
    "  - au-eoed::gnu-parallel\n",
    "  - pip\n",
    "```\n",
    "\n",
    "There are instructions for building environments [available here](https://marcc-hpc.github.io/tutorials/shortcourse_python.html). Users are free to try the tutorial on *Blue Crab* or on their local machines, however by the end of this notebook we will use SLURM for some basic parallelization.\n",
    "\n",
    "To build an environment with the dependencies above, add them to a text file called `reqs.yaml` and run:\n",
    "\n",
    "```\n",
    "conda create -p ./my_env --file reqs.yaml\n",
    "``` \n",
    "\n",
    "followed by `conda activate ./my_env`. You are free to choose a different name. If you are using *Blue Crab*, you will have to load the anaconda module and activate the environment whenever you want to use it.\n",
    "\n",
    "```\n",
    "ml anaconda\n",
    "conda activate ./path/to/my_env\n",
    "```\n",
    "\n",
    "We recommend using an informative name and installing software on our home or data locations (`~/` and `~/data`)."
   ]
  },
  {
   "cell_type": "markdown",
   "metadata": {},
   "source": [
    "### Lesson objectives\n",
    "\n",
    "1. Solve a simple ordinary differential equation (ODE) for a minimal epidemic model\n",
    "2. Perform a parameter sweep to understand the model better\n",
    "3. Create a stochastic simulation for the model\n",
    "4. Visualize and save the results\n",
    "\n",
    "### Code objectives\n",
    "\n",
    "1. Understand Python imports\n",
    "2. Conceptualize builtin data types\n",
    "3. Use basic `numpy` data types\n",
    "4. Write functions using arguments and keyword arguments\n",
    "5. Use generators such as `enumerate` to build loops\n",
    "6. Understand array \"slicing\" in `numpy`\n",
    "7. Make histograms"
   ]
  },
  {
   "cell_type": "markdown",
   "metadata": {},
   "source": [
    "## 1. The model"
   ]
  },
  {
   "cell_type": "markdown",
   "metadata": {},
   "source": [
    "The susceptible-infected-recovered (SIR) model can be used to describe the spread of disease in a population.\n",
    "\n",
    "$$\n",
    "\\begin{aligned}\n",
    "\\frac{dS}{dt} &= \\mu N - \\mu S - \\beta \\frac{S I}{N} \\\\\n",
    "\\frac{dI}{dt} &= \\beta \\frac{S I}{N} - \\gamma I - \\mu I \\\\\n",
    "\\frac{dR}{dt} &= \\gamma I - \\mu R \\\\\n",
    "N &= S + I + R\n",
    "\\end{aligned}\n",
    "$$\n",
    "\n",
    "In this model, $S,I,R$ represent the proportion of susceptible, infected, and recovered components of a population. The $\\mu$ parameter is the population growth rate for a mean lifetime of $\\frac{1}{\\mu}$. The transmission or contact rate is $\\beta$ and represents the number of disease-transmitting contacts per unit time per infected host. The recovery parameter $\\gamma$ is the number of recoveries per unit time, giving an expected duration of the disease of $\\frac{1}{\\gamma}$ which implicitly assumes a waiting time of $e^{-\\gamma t}$. Because it includes population growth and the spread of a disease, the model captures both biological and behavioral components. \n",
    "\n",
    "For this exercise, we assume zero population growth ($\\mu=0$) which reduces the model significantly.\n",
    "\n",
    "$$\n",
    "\\begin{aligned}\n",
    "N &= S + I + R \\\\\n",
    "\\frac{dS}{dt} &= - \\beta \\frac{S I}{N} \\\\\n",
    "\\frac{dI}{dt} &= \\beta \\frac{S I}{N} - \\gamma I \\\\\n",
    "\\frac{dR}{dt} &= \\gamma I\n",
    "\\end{aligned}\n",
    "$$\n",
    "\n",
    "The model assumes a \"well-mixed\" population. The original formulation of this model is due to Kermack and McKendrick (1927). The following exercise is adapted from [a course by Chris Meyers](http://pages.physics.cornell.edu/~myers/teaching/ComputationalMethods/ComputerExercises/SIR/SIR.html)."
   ]
  },
  {
   "cell_type": "markdown",
   "metadata": {},
   "source": [
    "This exercise will require the use of both `scipy` and [a magic command](https://ipython.readthedocs.io/en/stable/interactive/magics.html) to render `matplotlib` images inside the notebook."
   ]
  },
  {
   "cell_type": "code",
   "execution_count": 1,
   "metadata": {},
   "outputs": [],
   "source": [
    "# import required libraries\n",
    "import sys\n",
    "import numpy as np\n",
    "import scipy\n",
    "import scipy.integrate"
   ]
  },
  {
   "cell_type": "code",
   "execution_count": 2,
   "metadata": {},
   "outputs": [],
   "source": [
    "# imports for plotting\n",
    "import matplotlib as mpl\n",
    "%matplotlib inline\n",
    "import matplotlib.pyplot as plt"
   ]
  },
  {
   "cell_type": "markdown",
   "metadata": {},
   "source": [
    "Before continuing, we will review the basics of `numpy` data types. You can read more about this [in the manual](https://docs.scipy.org/doc/numpy/reference/)."
   ]
  },
  {
   "cell_type": "code",
   "execution_count": 3,
   "metadata": {},
   "outputs": [
    {
     "data": {
      "text/plain": [
       "array([10, 20, 30])"
      ]
     },
     "execution_count": 3,
     "metadata": {},
     "output_type": "execute_result"
    }
   ],
   "source": [
    "# numpy basics:\n",
    "a = [1,2,3]\n",
    "a * 10\n",
    "b = np.array([1,2,3])\n",
    "b * 10\n",
    "# what about `a * 10`?"
   ]
  },
  {
   "cell_type": "markdown",
   "metadata": {},
   "source": [
    "For this phase of the example, we will choose some starting parameters, namely an outbreak that starts with a single infected individual. Later we will sweep these parameters."
   ]
  },
  {
   "cell_type": "code",
   "execution_count": 4,
   "metadata": {},
   "outputs": [],
   "source": [
    "# initial settings\n",
    "N = 100\n",
    "I = 1\n",
    "S = N - I\n",
    "R = 0\n",
    "beta = 0.2\n",
    "gamma = 1./10"
   ]
  },
  {
   "cell_type": "code",
   "execution_count": 5,
   "metadata": {},
   "outputs": [],
   "source": [
    "# a single timestep\n",
    "y0 = np.array([S, I, R], dtype=float)/N"
   ]
  },
  {
   "cell_type": "markdown",
   "metadata": {},
   "source": [
    "In this section we will define the ODE and then perform a single update step."
   ]
  },
  {
   "cell_type": "code",
   "execution_count": 6,
   "metadata": {},
   "outputs": [
    {
     "name": "stdout",
     "output_type": "stream",
     "text": [
      "update: [-0.00198  0.00098  0.001  ]\n",
      "state: [0.98802 0.01098 0.001  ]\n"
     ]
    }
   ],
   "source": [
    "# choose a starting point\n",
    "y = y0\n",
    "# define the differential equations\n",
    "s,i,r = y\n",
    "dsdt = -beta * s * i\n",
    "didt = beta * s * i - gamma *i\n",
    "drdt = gamma * i\n",
    "update = np.array([dsdt, didt, drdt])\n",
    "y += update\n",
    "print('update: %s'%update)\n",
    "print('state: %s'%y)"
   ]
  },
  {
   "cell_type": "code",
   "execution_count": 7,
   "metadata": {},
   "outputs": [
    {
     "name": "stdout",
     "output_type": "stream",
     "text": [
      "argument a: 1\n",
      "argument(s) *b: (2, 3, 4)\n"
     ]
    }
   ],
   "source": [
    "# a quick primer on arguments and keyword arguments\n",
    "def function(a,*b):\n",
    "    print('argument a: %s'%str(a))\n",
    "    print('argument(s) *b: %s'%str(b))\n",
    "function(1,2,3,4)"
   ]
  },
  {
   "cell_type": "markdown",
   "metadata": {},
   "source": [
    "Next we will formalize the ODE in a function that returns the update."
   ]
  },
  {
   "cell_type": "code",
   "execution_count": 8,
   "metadata": {},
   "outputs": [],
   "source": [
    "def dydt(y,t,beta,gamma):\n",
    "    s,i,r = y\n",
    "    dsdt = -beta * s * i\n",
    "    didt = beta * s * i - gamma *i\n",
    "    drdt = gamma * i\n",
    "    update = np.array([dsdt, didt, drdt])\n",
    "    return update"
   ]
  },
  {
   "cell_type": "code",
   "execution_count": 9,
   "metadata": {},
   "outputs": [
    {
     "data": {
      "text/plain": [
       "array([-0.00216969,  0.00107169,  0.001098  ])"
      ]
     },
     "execution_count": 9,
     "metadata": {},
     "output_type": "execute_result"
    }
   ],
   "source": [
    "dydt(y0,0,beta=beta,gamma=gamma)"
   ]
  },
  {
   "cell_type": "markdown",
   "metadata": {},
   "source": [
    "Now that we have formulated the problem, we wil use `scipy` to solve it directly. You can read the [`odeint` documentation online](https://docs.scipy.org/doc/scipy/reference/generated/scipy.integrate.odeint.html)."
   ]
  },
  {
   "cell_type": "code",
   "execution_count": 10,
   "metadata": {},
   "outputs": [],
   "source": [
    "times = np.arange(100)\n",
    "answer = scipy.integrate.odeint(dydt, y0, times, args=(beta, gamma))"
   ]
  },
  {
   "cell_type": "code",
   "execution_count": 11,
   "metadata": {},
   "outputs": [
    {
     "data": {
      "image/png": "[encoded data removed]",
      "text/plain": [
       "<Figure size 432x288 with 1 Axes>"
      ]
     },
     "metadata": {
      "needs_background": "light"
     },
     "output_type": "display_data"
    }
   ],
   "source": [
    "# make a plot\n",
    "fig = plt.figure()\n",
    "ax = fig.add_subplot(111)\n",
    "ax.plot(times,answer[:,0],'-',label='susceptible')\n",
    "ax.set_xlabel('timesteps')\n",
    "ax.set_ylabel('susceptible individuals')\n",
    "plt.show()"
   ]
  },
  {
   "cell_type": "code",
   "execution_count": 12,
   "metadata": {},
   "outputs": [
    {
     "data": {
      "text/plain": [
       "[(0, 'a'), (1, 'b'), (2, 'c')]"
      ]
     },
     "execution_count": 12,
     "metadata": {},
     "output_type": "execute_result"
    }
   ],
   "source": [
    "# tip: we recommend the use of `enumerate` for indexing\n",
    "list(enumerate('abc'))"
   ]
  },
  {
   "cell_type": "markdown",
   "metadata": {},
   "source": [
    "The plot above shows the decline of susceptible individuals as the infection spreads through the population. In the next section we will plot all three populations."
   ]
  },
  {
   "cell_type": "code",
   "execution_count": 13,
   "metadata": {},
   "outputs": [],
   "source": [
    "def review(times,*series,fn=None):\n",
    "    \"\"\"Summarize the results.\"\"\"\n",
    "    fig = plt.figure()\n",
    "    ax = fig.add_subplot(111)\n",
    "    names=('susceptible','infected','recovered')\n",
    "    for ii,i in enumerate(series):\n",
    "        ax.plot(times,i,'-',label=names[ii])\n",
    "    ax.legend()\n",
    "    ax.set_xlabel('timesteps')\n",
    "    ax.set_ylabel('susceptible individuals')\n",
    "    if fn:\n",
    "        plt.savefig('trajectory.png')\n",
    "    plt.show()"
   ]
  },
  {
   "cell_type": "code",
   "execution_count": 14,
   "metadata": {},
   "outputs": [
    {
     "data": {
      "image/png": "[encoded data removed]",
      "text/plain": [
       "<Figure size 432x288 with 1 Axes>"
      ]
     },
     "metadata": {
      "needs_background": "light"
     },
     "output_type": "display_data"
    }
   ],
   "source": [
    "review(times,*answer.T)"
   ]
  },
  {
   "cell_type": "markdown",
   "metadata": {},
   "source": [
    "An alternate parameter to describe our model is the *basic reproduction number*, $R_0 = \\frac{\\beta}{\\gamma}$ which represents the transmission rate over the mean duration of the disease. If this parameter dips below 1, then we might expect the disease to die out on average. The following code will solve the ODE for different $R_0$ values. The results of this parameter sweep are plotted below."
   ]
  },
  {
   "cell_type": "code",
   "execution_count": 15,
   "metadata": {},
   "outputs": [
    {
     "data": {
      "image/png": "[encoded data removed]",
      "text/plain": [
       "<Figure size 432x288 with 1 Axes>"
      ]
     },
     "metadata": {
      "needs_background": "light"
     },
     "output_type": "display_data"
    }
   ],
   "source": [
    "# choose a sufficiently long time\n",
    "times = np.arange(1000)\n",
    "r0_vals = np.arange(0.1,5,0.1)\n",
    "sweep = np.zeros((len(r0_vals),2))\n",
    "gamma = 10.0\n",
    "for row,r0 in enumerate(r0_vals):\n",
    "    beta = r0*gamma\n",
    "    answer = scipy.integrate.odeint(dydt, y0, times, args=(beta, gamma))\n",
    "    sweep[row] = (r0,answer[-1][-1])\n",
    "# plot the sweep\n",
    "plt.plot(sweep.T[0],sweep.T[1],'.-')\n",
    "plt.xlabel('$R_0$')\n",
    "plt.ylabel(r'$S_\\infty$')\n",
    "plt.title('recovered population versus basic reproduction rate')\n",
    "plt.show()"
   ]
  },
  {
   "cell_type": "markdown",
   "metadata": {},
   "source": [
    "In the next sections we will generate a stochastic dynamic system to more accurately model this problem and then parallelize it."
   ]
  },
  {
   "cell_type": "markdown",
   "metadata": {},
   "source": [
    "## 2. A Stochastic Model for the Epidemic"
   ]
  },
  {
   "cell_type": "markdown",
   "metadata": {},
   "source": [
    "In this section we will use the Gillespie algorithm to simulate the infection in a more realistic population with discrete numbers of infected individuals who acquire the disease in explicit steps. We will continue to follow the [course by Chris Meyers](http://pages.physics.cornell.edu/~myers/teaching/ComputationalMethods/ComputerExercises/SIR/SIR.html). The precise details of our model are not essential for the exercise. The purpose is to develop a repeatable experiment which we can run in parallel. We will define the `StochasticSIR` class below to represent each experiment."
   ]
  },
  {
   "cell_type": "code",
   "execution_count": 16,
   "metadata": {},
   "outputs": [],
   "source": [
    "# initial settings\n",
    "N = 100\n",
    "I = 1\n",
    "S = N - I\n",
    "R = 0\n",
    "beta = 0.2\n",
    "gamma = 1./10"
   ]
  },
  {
   "cell_type": "code",
   "execution_count": 17,
   "metadata": {},
   "outputs": [],
   "source": [
    "class StochasticSIR:\n",
    "\n",
    "    def __init__(self,beta,gamma,S,I,R):\n",
    "        self.S = S\n",
    "        self.I = I\n",
    "        self.R = R\n",
    "        self.beta = beta\n",
    "        self.gamma = gamma\n",
    "        self.t = 0.\n",
    "        self.N = S + I + R\n",
    "        self.trajectory = np.array([[self.S, self.I, self.R]])\n",
    "        self.times = None\n",
    "\n",
    "    def step(self):\n",
    "        transition = None\n",
    "        # define rates\n",
    "        didt = self.beta * self.S * self.I\n",
    "        drdt = self.gamma * self.I\n",
    "        total_rate = didt + drdt\n",
    "        if total_rate == 0.:\n",
    "            return transition, self.t\n",
    "        # get a random number\n",
    "        rand = np.random.random()\n",
    "        # rates determine the event\n",
    "        if rand < didt/drdt:\n",
    "            self.S -= 1\n",
    "            self.I += 1\n",
    "            transition = 1\n",
    "        else:\n",
    "            self.I -= 1\n",
    "            self.R += 1\n",
    "            transition = 2\n",
    "        # the event happens in the future\n",
    "        dt = np.random.exponential(1./total_rate,1)[0]\n",
    "        self.t += dt\n",
    "        return transition, self.t\n",
    "\n",
    "    def run(self, T=None, make_traj=True):\n",
    "        \"\"\"The Gillespie algorithm.\"\"\"\n",
    "        if T is None:\n",
    "            T = sys.maxsize\n",
    "        self.times = [0.]\n",
    "        t0 = self.t\n",
    "        transition = 1\n",
    "        while self.t < t0 + T:\n",
    "            transition, t = self.step()\n",
    "            if not transition:\n",
    "                return self.t\n",
    "            if make_traj: self.trajectory = np.concatenate(\n",
    "                (self.trajectory, [[self.S,self.I,self.R]]), axis=0)\n",
    "            self.times.append(self.t)\n",
    "        return self.tB"
   ]
  },
  {
   "cell_type": "markdown",
   "metadata": {},
   "source": [
    "Using the class above, we can simulate the model using the following commands."
   ]
  },
  {
   "cell_type": "code",
   "execution_count": 18,
   "metadata": {},
   "outputs": [
    {
     "data": {
      "image/png": "[encoded data removed]",
      "text/plain": [
       "<Figure size 432x288 with 1 Axes>"
      ]
     },
     "metadata": {
      "needs_background": "light"
     },
     "output_type": "display_data"
    },
    {
     "name": "stdout",
     "output_type": "stream",
     "text": [
      "[32  0 68]\n"
     ]
    }
   ],
   "source": [
    "model = StochasticSIR(0.005,1./2,100-1,1,0)\n",
    "model.run()\n",
    "review(model.times,*model.trajectory.T)\n",
    "print(model.trajectory[-1])"
   ]
  },
  {
   "cell_type": "markdown",
   "metadata": {},
   "source": [
    "We can also repeat this experiment many times inside a `for` loop and then summarize the results. In the plot below, we are showing the distribution of the number of infected and therefore recovered individuals for 1000 different experiments. We find that less than 1% of the infections do not spread beyond patient zero. This is a useful readout from our model which depends on the model parameters."
   ]
  },
  {
   "cell_type": "code",
   "execution_count": 34,
   "metadata": {},
   "outputs": [],
   "source": [
    "# run many experiments\n",
    "beta = 0.005\n",
    "gamma = 1./2\n",
    "N = 100\n",
    "I = 1\n",
    "S = N-I\n",
    "n_expts = 1000\n",
    "result = np.zeros((n_expts,))\n",
    "for expt_num in range(len(result)):\n",
    "    model = StochasticSIR(beta=beta,gamma=gamma,S=S,I=I,R=R)\n",
    "    model.run()\n",
    "    result[expt_num] = model.trajectory[-1][2]"
   ]
  },
  {
   "cell_type": "code",
   "execution_count": 37,
   "metadata": {},
   "outputs": [
    {
     "data": {
      "image/png": "[encoded data removed]",
      "text/plain": [
       "<Figure size 432x288 with 1 Axes>"
      ]
     },
     "metadata": {
      "needs_background": "light"
     },
     "output_type": "display_data"
    }
   ],
   "source": [
    "# summarize the experiments\n",
    "counts,edges = np.histogram(result,bins=0.5+np.arange(0,N+1))\n",
    "mids = (edges[1:]+edges[:-1])/2.\n",
    "valid = np.all((counts>0,mids>1),axis=0)\n",
    "plt.plot(mids[valid],counts[valid]/n_expts,'o-')\n",
    "plt.plot(mids[0],counts[0]/n_expts,'o')\n",
    "plt.xlabel('number afflicted')\n",
    "plt.ylabel('observed')\n",
    "plt.show()"
   ]
  },
  {
   "cell_type": "markdown",
   "metadata": {},
   "source": [
    "Compute the mean susceptibility for infections that spread beyond one person."
   ]
  },
  {
   "cell_type": "code",
   "execution_count": 50,
   "metadata": {},
   "outputs": [
    {
     "name": "stdout",
     "output_type": "stream",
     "text": [
      "The average recovered number of hosts if the infection spread is: 79.50\n",
      "In 0.60% of cases the infection did not spread\n"
     ]
    }
   ],
   "source": [
    "# explain a single result in words\n",
    "print('The average recovered number of hosts if the infection spread is: %.2f'%result[result>1].mean())\n",
    "print(r'In %.2f%% of cases the infection did not spread'%(np.mean(result<=1)*100))"
   ]
  },
  {
   "cell_type": "markdown",
   "metadata": {},
   "source": [
    "### Study the transmission rate"
   ]
  },
  {
   "cell_type": "markdown",
   "metadata": {},
   "source": [
    "Now that we have constructed a numerical experiment which tells us the likelihood that an infection will spread to a large part of the population, we can use this code to study the relationship between the transmission rate and the probably of an epidemic. In the following function we \"sweep\" the $\\beta$ parameter assuming a fixed value for the recovery time $\\gamma$ and thereby study the effects of the basic reproduction number, $R_0$."
   ]
  },
  {
   "cell_type": "code",
   "execution_count": 22,
   "metadata": {},
   "outputs": [
    {
     "name": "stdout",
     "output_type": "stream",
     "text": [
      "0 1 2 3 4 5 6 7 8 9 10 11 12 13 14 15 16 17 18 "
     ]
    }
   ],
   "source": [
    "# roll the models above into a single function\n",
    "def study_beta(\n",
    "    beta = .005,\n",
    "    gamma = 1./2,\n",
    "    N = 100,\n",
    "    I = 1,\n",
    "    n_expts = 1000):\n",
    "    \"\"\"Run many experiments for a particular beta \n",
    "    to see how many infections spread.\"\"\"\n",
    "    S = N-I\n",
    "    result = np.zeros((n_expts,))\n",
    "    for expt_num in range(len(result)):\n",
    "        model = StochasticSIR(beta=beta,gamma=gamma,S=S,I=I,R=R)\n",
    "        model.run()\n",
    "        result[expt_num] = model.trajectory[-1][2]\n",
    "    return result\n",
    "\n",
    "n_expts = 100\n",
    "beta_sweep = np.arange(0.001,0.02,0.001)\n",
    "\n",
    "results = np.zeros((len(beta_sweep),n_expts))\n",
    "for snum,beta in enumerate(beta_sweep):\n",
    "    print('%d '%snum,end='')\n",
    "    results[snum] = study_beta(beta=beta,n_expts=n_expts)"
   ]
  },
  {
   "cell_type": "code",
   "execution_count": 24,
   "metadata": {},
   "outputs": [
    {
     "data": {
      "text/plain": [
       "array([0.001, 0.002, 0.003, 0.004, 0.005, 0.006, 0.007, 0.008, 0.009,\n",
       "       0.01 , 0.011, 0.012, 0.013, 0.014, 0.015, 0.016, 0.017, 0.018,\n",
       "       0.019])"
      ]
     },
     "execution_count": 24,
     "metadata": {},
     "output_type": "execute_result"
    }
   ],
   "source": [
    "# review the values in our sweep\n",
    "beta_sweep"
   ]
  },
  {
   "cell_type": "code",
   "execution_count": 25,
   "metadata": {},
   "outputs": [],
   "source": [
    "# reformulate the results\n",
    "summary_stats = []\n",
    "for enum,beta in enumerate(beta_sweep):\n",
    "    result = results[enum]\n",
    "    counts,edges = np.histogram(result,bins=0.5+np.arange(0,N+1))\n",
    "    mids = (edges[1:]+edges[:-1])/2.\n",
    "    valid = np.all((mids>1,counts>1),axis=0)\n",
    "    row = (beta,counts[valid].mean(),counts[0])\n",
    "    summary_stats.append(row)\n",
    "# our first list comprehension!\n",
    "beta_vs_spread = np.array([(beta,spread) for beta,spread,safe in summary_stats])\n",
    "beta_vs_safe = np.array([(beta,safe) for beta,spread,safe in summary_stats])"
   ]
  },
  {
   "cell_type": "code",
   "execution_count": 28,
   "metadata": {},
   "outputs": [
    {
     "data": {
      "image/png": "[encoded data removed]",
      "text/plain": [
       "<Figure size 720x432 with 2 Axes>"
      ]
     },
     "metadata": {
      "needs_background": "light"
     },
     "output_type": "display_data"
    }
   ],
   "source": [
    "fig = plt.figure(figsize=(10,6))\n",
    "ax = plt.subplot(121)\n",
    "color_vals = np.linspace(0,1,len(results))\n",
    "for rnum,result in enumerate(results):\n",
    "    counts,edges = np.histogram(result,bins=0.5+np.arange(0,N+1))\n",
    "    mids = (edges[1:]+edges[:-1])/2.\n",
    "    ax.plot(mids,counts,'-',color=mpl.cm.jet(color_vals[rnum]))\n",
    "    ax.set_xlabel('susceptible')\n",
    "    ax.set_ylabel('observed')\n",
    "ax = plt.subplot(122)\n",
    "ax.plot(*beta_vs_spread.T,label='afflicted')\n",
    "ax.plot(*beta_vs_safe.T,label='safe')\n",
    "plt.tick_params(axis='x', labelrotation=-90) \n",
    "ax.legend()\n",
    "ax.set_xlabel('transmission rate')\n",
    "ax.set_ylabel('population size')\n",
    "plt.show()"
   ]
  },
  {
   "cell_type": "markdown",
   "metadata": {},
   "source": [
    "The plots above capture two features of our sweep. On the left, we have a color-coded set of distributions. Each distribution includes the number of susceptible individuals after many experiments for a single transmission rate. The color represents the magnitude of the transmission rate (low rates are blue, high rates are red). On the right, we calculate the mean number of safe (uninfected) versus afflicted (those who get the disease) according to the transmission rate. We find that higher transmission rates increase the number people who get the disease. This characterizes an important feature of our model, namely, that there is a threshold transmission rate above which everybody is guaranteed to get the disease."
   ]
  },
  {
   "cell_type": "markdown",
   "metadata": {},
   "source": [
    "## 3. Package the Code\n",
    "\n",
    "In order to perform a more extensive set of experiments, we will package the code from the example above by putting it into a single script. We can then run this script in parallel using SLURM or GNU parallel. In the following cell, we are using the magic `%%file` syntax to write the file."
   ]
  },
  {
   "cell_type": "code",
   "execution_count": 75,
   "metadata": {},
   "outputs": [
    {
     "name": "stdout",
     "output_type": "stream",
     "text": [
      "Overwriting epidemic_expt.py\n"
     ]
    }
   ],
   "source": [
    "%%file epidemic_expt.py\n",
    "\n",
    "# import required libraries\n",
    "import sys\n",
    "import numpy as np\n",
    "import scipy\n",
    "import scipy.integrate\n",
    "\n",
    "class StochasticSIR:\n",
    "\n",
    "    def __init__(self,beta,gamma,S,I,R):\n",
    "        self.S = S\n",
    "        self.I = I\n",
    "        self.R = R\n",
    "        self.beta = beta\n",
    "        self.gamma = gamma\n",
    "        self.t = 0.\n",
    "        self.N = S + I + R\n",
    "        self.trajectory = np.array([[self.S, self.I, self.R]])\n",
    "        self.times = None\n",
    "\n",
    "    def step(self):\n",
    "        transition = None\n",
    "        # define rates\n",
    "        didt = self.beta * self.S * self.I\n",
    "        drdt = self.gamma * self.I\n",
    "        total_rate = didt + drdt\n",
    "        if total_rate == 0.:\n",
    "            return transition, self.t\n",
    "        # get a random number\n",
    "        rand = np.random.random()\n",
    "        # rates determine the event\n",
    "        if rand < didt/drdt:\n",
    "            self.S -= 1\n",
    "            self.I += 1\n",
    "            transition = 1\n",
    "        else:\n",
    "            self.I -= 1\n",
    "            self.R += 1\n",
    "            transition = 2\n",
    "        # the event happens in the future\n",
    "        dt = np.random.exponential(1./total_rate,1)[0]\n",
    "        self.t += dt\n",
    "        return transition, self.t\n",
    "\n",
    "    def run(self, T=None, make_traj=True):\n",
    "        \"\"\"The Gillespie algorithm.\"\"\"\n",
    "        if T is None:\n",
    "            T = sys.maxsize\n",
    "        self.times = [0.]\n",
    "        t0 = self.t\n",
    "        transition = 1\n",
    "        while self.t < t0 + T:\n",
    "            transition, t = self.step()\n",
    "            if not transition:\n",
    "                return self.t\n",
    "            if make_traj: self.trajectory = np.concatenate(\n",
    "                (self.trajectory, [[self.S,self.I,self.R]]), axis=0)\n",
    "            self.times.append(self.t)\n",
    "        return self.tB\n",
    "    \n",
    "# roll the models above into a single function\n",
    "def study_beta(\n",
    "    beta = .005,\n",
    "    gamma = 1./2,\n",
    "    N = 100,\n",
    "    I = 1,\n",
    "    n_expts = 1000):\n",
    "    \"\"\"Run many experiments for a particular beta \n",
    "    to see how many infections spread.\"\"\"\n",
    "    S = N-I\n",
    "    result = np.zeros((n_expts,))\n",
    "    for expt_num in range(len(result)):\n",
    "        model = StochasticSIR(beta=beta,gamma=gamma,S=S,I=I,R=R)\n",
    "        model.run()\n",
    "        result[expt_num] = model.trajectory[-1][2]\n",
    "    return result\n",
    "\n",
    "if __name__=='__main__':\n",
    "    print(' '.join(sys.argv))\n",
    "    # testing mode\n",
    "    mode = 'test' if len(sys.argv)==2 else 'sweep'\n",
    "    \n",
    "    # ensure that we have an argument for the seed\n",
    "    if len(sys.argv)<2:\n",
    "        raise Exception('you must supply a seed')\n",
    "    else: seed_val = int(sys.argv[1])\n",
    "\n",
    "    # initial settings\n",
    "    N = 1000\n",
    "    I = 1\n",
    "    S = N - I\n",
    "    R = 0\n",
    "    beta = 0.2\n",
    "    gamma = 1./10\n",
    "    \n",
    "    # parameter sweep settings, ten total\n",
    "    sweep_global = np.arange(0.001,0.02+0.001,0.002) \n",
    "    \n",
    "    np.random.seed(seed_val)\n",
    "    n_expts = 100\n",
    "    if mode=='sweep':\n",
    "        # if we send a second index it marks the beta parameter in the sweep\n",
    "        index = int(sys.argv[2])\n",
    "        beta = sweep_global[index]\n",
    "    elif mode=='test':\n",
    "        beta = 0.002\n",
    "    result = study_beta(beta=beta,n_expts=n_expts)\n",
    "    if mode=='test':\n",
    "        print('result: %s'%str(result))\n",
    "        print('average: %s'%str(result.mean()))\n",
    "    elif mode=='sweep':\n",
    "        # write the results to a file\n",
    "        with open('result_%d.txt'%index,'w') as fp:\n",
    "            fp.write(\"n_expts %d\\nN %d\\nI %d\\nS %d\\nbeta %.4f\\ngamma %.4f\\nresult %s\\n\"%(\n",
    "                n_expts,N,I,S,beta,gamma,result))\n",
    "            fp.write('average %s\\n'%str(result.mean()))"
   ]
  },
  {
   "cell_type": "markdown",
   "metadata": {},
   "source": [
    "In the code above, I have forced the user to include an argument for the numerical \"seed\" for our random number generator. Use the magic BASH operator (`1`) to try this experiment a few times to see what the results are."
   ]
  },
  {
   "cell_type": "code",
   "execution_count": 76,
   "metadata": {},
   "outputs": [
    {
     "name": "stdout",
     "output_type": "stream",
     "text": [
      "epidemic_expt.py 1\n",
      "result: [ 1. 20.  1.  1.  2.  2.  1.  6.  4.  1.  1.  1.  1. 16.  2. 12.  1.  2.\n",
      "  1.  1.  2.  1.  4.  1.  1.  3. 12.  1.  2.  1.  2.  1.  1.  4.  5.  5.\n",
      "  4.  1.  1.  1.  1.  1.  1.  1.  3.  4.  1.  1.  1.  4.  1.  2.  3.  1.\n",
      "  2.  1.  1.  1.  1.  2.  1.  1.  1.  2.  2.  3.  2.  1.  1.  1.  1.  1.\n",
      "  2.  1.  1.  1. 15.  3.  1.  1.  1.  3.  1.  1.  2.  1.  2.  5.  4.  1.\n",
      "  1.  1.  1.  1.  1.  1.  1.  1.  1.  4.]\n",
      "average: 2.39\n",
      "\n",
      "real\t0m0.582s\n",
      "user\t0m0.537s\n",
      "sys\t0m0.168s\n"
     ]
    }
   ],
   "source": [
    "# run a single experiment\n",
    "! time python epidemic_expt.py 1"
   ]
  },
  {
   "cell_type": "markdown",
   "metadata": {},
   "source": [
    "We have access to an infinite but countable number of random seeds which must be unique for every set of experiments we wish to run. You must always be mindful of the the fact that your results will be [pseudo-random](https://www.sicara.ai/blog/2019-01-28-how-computer-generate-random-numbers)."
   ]
  },
  {
   "cell_type": "markdown",
   "metadata": {},
   "source": [
    "## 3. Basic parallelism\n",
    "\n",
    "Next we will use [GNU parallel](https://www.gnu.org/software/parallel/) to parallelize this calculation. We will discuss the following syntax in class, however you are welcome to read the manual (via `! parallel --help`). Try to use different numbers of processors with the `-j` flag to see how it affects the speed."
   ]
  },
  {
   "cell_type": "code",
   "execution_count": 77,
   "metadata": {},
   "outputs": [
    {
     "name": "stdout",
     "output_type": "stream",
     "text": [
      "epidemic_expt.py 1 0\n",
      "epidemic_expt.py 1 1\n",
      "epidemic_expt.py 1 2\n",
      "epidemic_expt.py 1 3\n",
      "epidemic_expt.py 1 4\n",
      "epidemic_expt.py 1 5\n",
      "epidemic_expt.py 1 6\n",
      "epidemic_expt.py 1 7\n",
      "epidemic_expt.py 1 8\n",
      "epidemic_expt.py 1 9\n",
      "\n",
      "real\t0m2.249s\n",
      "user\t0m6.789s\n",
      "sys\t0m1.606s\n"
     ]
    }
   ],
   "source": [
    "# perform the parameter sweep with GNU parallel\n",
    "! time parallel -j 4 \"python epidemic_expt.py\" 1 ::: {0..9}"
   ]
  },
  {
   "cell_type": "code",
   "execution_count": 78,
   "metadata": {},
   "outputs": [
    {
     "name": "stdout",
     "output_type": "stream",
     "text": [
      "beta_susceptible.png  result_0.txt          result_5.txt\r\n",
      "epidemic.ipynb        result_1.txt          result_6.txt\r\n",
      "epidemic_expt.py      result_2.txt          result_7.txt\r\n",
      "epidemic_expt_post.py result_3.txt          result_8.txt\r\n",
      "epidemic_job.sh       result_4.txt          result_9.txt\r\n"
     ]
    }
   ],
   "source": [
    "# check for the results files and view them with `! cat result_*`\n",
    "! ls\n",
    "# ! cat result_*"
   ]
  },
  {
   "cell_type": "markdown",
   "metadata": {},
   "source": [
    "Collect the results by reading the numbers from the last line of each results file."
   ]
  },
  {
   "cell_type": "code",
   "execution_count": 79,
   "metadata": {},
   "outputs": [],
   "source": [
    "import glob\n",
    "fns = glob.glob('result_*')"
   ]
  },
  {
   "cell_type": "code",
   "execution_count": 80,
   "metadata": {},
   "outputs": [],
   "source": [
    "# collect all of the data\n",
    "collected = {}\n",
    "for fn in fns:\n",
    "    with open(fn) as fp:\n",
    "        text = fp.read()\n",
    "    lines = text.splitlines()\n",
    "    # join and split the data\n",
    "    lines_reduced = dict([(i.split()[0],' '.join(i.split()[1:])) for i in lines])\n",
    "    # index the data by beta\n",
    "    collected[lines_reduced['beta']] = lines_reduced"
   ]
  },
  {
   "cell_type": "code",
   "execution_count": 81,
   "metadata": {},
   "outputs": [],
   "source": [
    "# reformulate the results\n",
    "ts = [(float(j['beta']),float(j['average'])) for i,j in collected.items()]\n",
    "ts = sorted(ts,key=lambda x:x[0])"
   ]
  },
  {
   "cell_type": "code",
   "execution_count": 82,
   "metadata": {},
   "outputs": [
    {
     "data": {
      "image/png": "[encoded data removed]",
      "text/plain": [
       "<Figure size 432x288 with 1 Axes>"
      ]
     },
     "metadata": {
      "needs_background": "light"
     },
     "output_type": "display_data"
    }
   ],
   "source": [
    "# make a plot\n",
    "fig = plt.figure()\n",
    "ax = fig.add_subplot(111)\n",
    "ax.plot(*zip(*ts),'-',label='susceptible')\n",
    "ax.set_xlabel('beta')\n",
    "ax.set_ylabel('susceptible individuals')\n",
    "plt.show()"
   ]
  },
  {
   "cell_type": "markdown",
   "metadata": {},
   "source": [
    "Now that we have run the calculation in parallel, we can write a script to do the post-processing."
   ]
  },
  {
   "cell_type": "code",
   "execution_count": 83,
   "metadata": {},
   "outputs": [
    {
     "name": "stdout",
     "output_type": "stream",
     "text": [
      "Overwriting epidemic_expt_post.py\n"
     ]
    }
   ],
   "source": [
    "%%file epidemic_expt_post.py\n",
    "\n",
    "# imports for plotting\n",
    "import matplotlib as mpl\n",
    "# turn off the backend\n",
    "mpl.use('Agg')\n",
    "import matplotlib.pyplot as plt\n",
    "\n",
    "import glob\n",
    "fns = glob.glob('result_*')\n",
    "\n",
    "# collect all of the data\n",
    "collected = {}\n",
    "for fn in fns:\n",
    "    with open(fn) as fp:\n",
    "        text = fp.read()\n",
    "    lines = text.splitlines()\n",
    "    # join and split the data\n",
    "    lines_reduced = dict([(i.split()[0],' '.join(i.split()[1:])) for i in lines])\n",
    "    # index the data by beta\n",
    "    collected[lines_reduced['beta']] = lines_reduced\n",
    "\n",
    "# reformulate the results\n",
    "ts = [(float(j['beta']),float(j['average'])) for i,j in collected.items()]\n",
    "ts = sorted(ts,key=lambda x:x[0])\n",
    "\n",
    "# make a plot\n",
    "fig = plt.figure()\n",
    "ax = fig.add_subplot(111)\n",
    "ax.plot(*zip(*ts),'-',label='susceptible')\n",
    "ax.set_xlabel('beta')\n",
    "ax.set_ylabel('susceptible individuals')\n",
    "plt.savefig('beta_susceptible.png')\n",
    "plt.close()"
   ]
  },
  {
   "cell_type": "code",
   "execution_count": 84,
   "metadata": {},
   "outputs": [],
   "source": [
    "! python epidemic_expt_post.py"
   ]
  },
  {
   "cell_type": "code",
   "execution_count": 85,
   "metadata": {},
   "outputs": [
    {
     "data": {
      "image/png": "[encoded data removed]",
      "text/plain": [
       "<IPython.core.display.Image object>"
      ]
     },
     "execution_count": 85,
     "metadata": {},
     "output_type": "execute_result"
    }
   ],
   "source": [
    "# check on the image inside the notebook\n",
    "from IPython.display import Image\n",
    "Image(filename='beta_susceptible.png') "
   ]
  },
  {
   "cell_type": "code",
   "execution_count": 66,
   "metadata": {},
   "outputs": [],
   "source": [
    "# clean up the files\n",
    "! rm result_* beta_susceptible.png"
   ]
  },
  {
   "cell_type": "markdown",
   "metadata": {},
   "source": [
    "The above example describes a typical workflow in which we parallelize a calculation and then \"merge\" the result using some kind of post-processing code."
   ]
  },
  {
   "cell_type": "markdown",
   "metadata": {},
   "source": [
    "## 4. SLURM Job Arrays\n",
    "\n",
    "In this section we will use a SLURM job array. The job array should only be used when your calculation takes longer than a few minutes, since there is a small (time) penalty for starting each new job. Using GNU parallel works much like a standard `for` loop and does not have such a penalty, however it requires that you allocation all of the hardware at once. Submitting a job array to SLURM will allow jobs to run whenever the hardware for a single job is available."
   ]
  },
  {
   "cell_type": "code",
   "execution_count": 67,
   "metadata": {},
   "outputs": [
    {
     "name": "stdout",
     "output_type": "stream",
     "text": [
      "Overwriting epidemic_job.sh\n"
     ]
    }
   ],
   "source": [
    "%%file epidemic_job.sh\n",
    "#!/bin/bash\n",
    "\n",
    "#SBATCH -p express\n",
    "#SBATCH -c 1\n",
    "#SBATCH -t 10\n",
    "#SBATCH --array=0-9\n",
    "\n",
    "module load anaconda\n",
    "conda env list\n",
    "conda activate plotly\n",
    "export SEED=1\n",
    "python epidemic_expt.py $SEED $SLURM_ARRAY_TASK_ID"
   ]
  },
  {
   "cell_type": "markdown",
   "metadata": {},
   "source": [
    "The workflow on MARCC might look something like this:\n",
    "    \n",
    "```\n",
    "ssh marcc\n",
    "# choose a location for this experiment\n",
    "cd carefully/choose/a/path/please\n",
    "# clone the repository\n",
    "git clone http://github.com/marcc-hpc/esc\n",
    "# go into the notebooks folder\n",
    "cd tutorial-repo/notebooks\n",
    "# load an environment with some of the programs we need\n",
    "# note that you can make your own too update it with:\n",
    "# conda env update --file reqs.yaml -p ./path/to/env\n",
    "ml anaconda\n",
    "conda env list\n",
    "# use a public environment or activate your own\n",
    "conda activate plotly\n",
    "# if your envionment lacks GNU parallel, load the module for it\n",
    "ml parallel\n",
    "# use the prepared script to run a parameter sweep\n",
    "parallel -j 4 python epidemic_expt.py 1 ::: {0..9}\n",
    "# post-processing generates the plot\n",
    "python epidemic_expt_post.py\n",
    "# clean up the files for the next test\n",
    "rm result_*\n",
    "# inspect the job file first\n",
    "cat epidemic_job.sh\n",
    "# submit the file\n",
    "sbatch job.sh\n",
    "# reload the environment to do the post-processing\n",
    "ml anaconda\n",
    "conda activate plotly\n",
    "# make the plot\n",
    "python epidemic_expt_post.py\n",
    "```"
   ]
  },
  {
   "cell_type": "markdown",
   "metadata": {},
   "source": [
    "The exercise above is typically performed during a tutorial session, but should serve as a rough outline for the process of building an environment, running a python code in parallel using SLURM, and processing the results. This notebook has outlined the use of both GNU parallel and SLURM to accomplish the same result. In subsequent lessons we will learn more advanced methods for parallelization. These efforts also depend on properly packaging both your code and the inputs and outputs for a particular set of experiments. We will discuss the best practices for these kinds of workflows in subsequent lessons."
   ]
  }
 ],
 "metadata": {
  "kernelspec": {
   "display_name": "Python 3",
   "language": "python",
   "name": "python3"
  },
  "language_info": {
   "codemirror_mode": {
    "name": "ipython",
    "version": 3
   },
   "file_extension": ".py",
   "mimetype": "text/x-python",
   "name": "python",
   "nbconvert_exporter": "python",
   "pygments_lexer": "ipython3",
   "version": "3.7.4"
  }
 },
 "nbformat": 4,
 "nbformat_minor": 2
}
